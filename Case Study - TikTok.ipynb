{
  "nbformat": 4,
  "nbformat_minor": 0,
  "metadata": {
    "colab": {
      "provenance": []
    },
    "kernelspec": {
      "name": "python3",
      "display_name": "Python 3"
    },
    "language_info": {
      "name": "python"
    }
  },
  "cells": [
    {
      "cell_type": "markdown",
      "source": [
        "# **Case Study** - *TikTok Accounts*\n",
        "\n",
        "The Data Team at TikTok is working on the development of a predictive model that can determine whether a video contains a claim or offers an opinion.\n",
        "\n",
        "As part of the milestones for the project, a Hypothesis Test could help the team to understand more about the population behavior and make a decision on the most relevant variables for the model.  "
      ],
      "metadata": {
        "id": "tG2huJkLHtzi"
      }
    },
    {
      "cell_type": "markdown",
      "source": [
        "## **1. Setting Enviroment**\n",
        "\n",
        "As a first step on this case study, we will focus on preparing the enviroment for our anlaysis and uploading our data."
      ],
      "metadata": {
        "id": "j6P1iFjjI0Tc"
      }
    },
    {
      "cell_type": "code",
      "execution_count": null,
      "metadata": {
        "id": "Lv8kaBj1CKOH"
      },
      "outputs": [],
      "source": [
        "# First, let´s import the libraries that are escential for the analysis.\n",
        "\n",
        "import pandas as od\n",
        "from scipy import stats"
      ]
    },
    {
      "cell_type": "code",
      "source": [
        "# Load dataset into dataframe\n",
        "views_data = pd.read_csv(\"tiktok_dataset.csv\")\n",
        "\n",
        "#NOTE: The path to the CSV is not specified on the code, but can be replicated as long as the file is locally stored."
      ],
      "metadata": {
        "id": "0dcd7mAyIMmj"
      },
      "execution_count": null,
      "outputs": []
    },
    {
      "cell_type": "markdown",
      "source": [
        "## **2. Descriptive Analysis & Data Preparation**\n",
        "\n",
        "Now that we have everything set up, it is important that we give our dataset a quick descriptive analysis. This will allow us to better understand our data set, check for any missing values, examine the data structures, understand data distribution and for this specific case study, compute the mean of ***video_view_count*** and determine if there is a relevant difference for the analysis.\n",
        "\n",
        "Also, we will prepare the dataset, this includes transforming data types, dropping duplicates or missing values, or creating new columns if necessary.  "
      ],
      "metadata": {
        "id": "aefEUw9iIyhU"
      }
    },
    {
      "cell_type": "code",
      "source": [
        "# See the first rows of our data set and familiarize with the data.\n",
        "views_data.head()"
      ],
      "metadata": {
        "id": "OACyVbahItM2"
      },
      "execution_count": null,
      "outputs": []
    },
    {
      "cell_type": "code",
      "source": [
        "# Table of descriptive measures of the data set\n",
        "views_data.describe()"
      ],
      "metadata": {
        "id": "PbLHMM0OItTR"
      },
      "execution_count": null,
      "outputs": []
    },
    {
      "cell_type": "code",
      "source": [
        "# Check for any missing data\n",
        "views_data[views_data[\"claim_status\"].isna()]"
      ],
      "metadata": {
        "id": "EMMlvtTcItV2"
      },
      "execution_count": null,
      "outputs": []
    },
    {
      "cell_type": "code",
      "source": [
        "# Drop rows with missing values\n",
        "views_data = views_data[~views_data[\"claim_status\"].isna()]\n",
        "views_data.head()"
      ],
      "metadata": {
        "id": "tGMgqv6YItYQ"
      },
      "execution_count": null,
      "outputs": []
    },
    {
      "cell_type": "code",
      "source": [
        "# Creation of new data frames that will help us in the hypothes testing process\n",
        "\n",
        "verified_acc = data[data[\"verified_status\"] == \"verified\"]\n",
        "not_verified_acc = data[data[\"verified_status\"] == \"not verified\"]\n",
        "\n",
        "# Mean validation\n",
        "data.groupby([\"verified_status\"]).mean()[\"video_view_count\"]\n",
        "\n",
        "# Note: We notice that the mean views from not verified accounts (265,663) is greater than the mean views from verified accounts (91,439)"
      ],
      "metadata": {
        "collapsed": true,
        "id": "-7OTlkgVG2Uc"
      },
      "execution_count": null,
      "outputs": []
    },
    {
      "cell_type": "markdown",
      "source": [
        "The code shows the following results:\n",
        "\n",
        "```\n",
        "not verified - 265663.785339\n",
        "verified - 91439.164167\n",
        "```\n",
        "\n",
        "We notice that the mean views from not verified accounts ( ***265,663*** ) is greater than the mean views from verified accounts ( ***91,439*** )\n",
        "\n"
      ],
      "metadata": {
        "id": "z2HXajz9I5yr"
      }
    },
    {
      "cell_type": "markdown",
      "source": [
        "## **3. Hypothesis Testing**\n",
        "\n",
        "Now that we are ready with our dataset, we can proceed with our Hypothesis Testing.\n",
        "Someting that I find really interesting while executing this step is to recall relevant concepts such as:\n",
        "\n",
        "***Null Hypothesis***: A statement that is assumed to be true unless there is convincing evidence to the contrary.\n",
        "\n",
        "***Alternative Hypothesis:*** A statement that contradicts the null hypothesis and is accepted as true only if there is convincing evidence for it\n",
        "\n",
        "---\n",
        "\n",
        "For this specific case study, the hypothesis would be:\n",
        "\n",
        "***Null Hypothesis***\n",
        "> There is no statistically significant difference in the mean views between the verified and non-verified accounts. The difference is due to random sampling.\n",
        "\n",
        "***Alternative Hypothesis***\n",
        "\n",
        "> There is statistically significant difference in the mean views between the verified and non-verified accounts. This can be accepted only if there is convincing evidence.  \n",
        "\n",
        "\n",
        "We set the **significance level at 5%** and proceed with a two-sample t-test."
      ],
      "metadata": {
        "id": "rn5x3UuwN_0O"
      }
    },
    {
      "cell_type": "code",
      "source": [
        "# Creation of the two-sample t-test\n",
        "\n",
        "stats.ttest_ind(a= not_verified_acc['video_view_count'] , b= verified_acc['video_view_count'], alternative='two-sided', equal_var=False)\n",
        "\n",
        "# NOTE: I chose  a two-sided t-test due to the null hypothesis."
      ],
      "metadata": {
        "id": "BDgO1q2jItae",
        "collapsed": true
      },
      "execution_count": null,
      "outputs": []
    },
    {
      "cell_type": "markdown",
      "source": [
        "## **4. Results and Conclusion**\n",
        "\n",
        "The code shows the following results:\n",
        "\n",
        "\n",
        "```\n",
        "Ttest_indResult(statistic=25.499441780633777, pvalue=2.6088823687177823e-120)\n",
        "```\n",
        "\n",
        "Recalling what a p-value is:\n",
        "> The probability of observing results as or more extreme than those observed when the null hypothesis is true\n",
        "\n",
        "Based on the result that we got from the two-tailed t-test, we observe that the p-value is extremely low, so we can conclude that there is statistically significant difference between the means of the verified accounts and the non-verified accounts.\n",
        "\n",
        "\n",
        "***We can confidently reject the null hypothesis and say that: there is a difference in mean views between non-verified accounts and verified accounts ***\n"
      ],
      "metadata": {
        "id": "FzjuikgPIoTh"
      }
    },
    {
      "cell_type": "markdown",
      "source": [
        "## **5. Next Steps**\n",
        "\n",
        "As part of the analysis, here are some insights I would recommend to analyze further and contribute to the project´s objectives:\n",
        "\n",
        "*   Do the **not verified accounts** upload videos related to an specific topic?\n",
        "*   Are **not verified accounts** using some kind of bot to increase the views whenever they upload a video?\n",
        "\n",
        "\n"
      ],
      "metadata": {
        "id": "FoMLl0fA0Mnp"
      }
    },
    {
      "cell_type": "code",
      "source": [],
      "metadata": {
        "id": "6-GCofELX_pA"
      },
      "execution_count": null,
      "outputs": []
    }
  ]
}