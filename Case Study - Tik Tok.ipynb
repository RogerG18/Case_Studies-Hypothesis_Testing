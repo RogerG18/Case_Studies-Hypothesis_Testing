{
  "nbformat": 4,
  "nbformat_minor": 0,
  "metadata": {
    "colab": {
      "provenance": []
    },
    "kernelspec": {
      "name": "python3",
      "display_name": "Python 3"
    },
    "language_info": {
      "name": "python"
    }
  },
  "cells": [
    {
      "cell_type": "markdown",
      "source": [
        "# **Case Study** - *Tik Tok Accounts*"
      ],
      "metadata": {
        "id": "tG2huJkLHtzi"
      }
    },
    {
      "cell_type": "markdown",
      "source": [
        "## **1. Setting Enviroment**\n",
        "\n",
        "As a first step on this case study, we focus on preparing the enviroment for our anlaysis and uploading our data."
      ],
      "metadata": {
        "id": "j6P1iFjjI0Tc"
      }
    },
    {
      "cell_type": "code",
      "execution_count": null,
      "metadata": {
        "id": "Lv8kaBj1CKOH"
      },
      "outputs": [],
      "source": [
        "# First, let´s import the libraries that are escential for the analysis.\n",
        "\n",
        "import pandas as od\n",
        "from scipy import stats"
      ]
    },
    {
      "cell_type": "code",
      "source": [
        "# Load dataset into dataframe\n",
        "views_data = pd.read_csv(\"tiktok_dataset.csv\")\n",
        "\n",
        "#NOTE: The path to the CSV is not specified on the code, but can be replicated as long as the file is locally stored."
      ],
      "metadata": {
        "id": "0dcd7mAyIMmj"
      },
      "execution_count": null,
      "outputs": []
    },
    {
      "cell_type": "markdown",
      "source": [
        "## **2. Descriptive Analysis & Data Preparation**\n",
        "\n",
        "Now that we have everyting set up, it is important that we give our Data Frame a quick descriptive analysis. This will allow us to undertand better our data set, see if there is any missing values, see data structures, understand data distribution and for this specific case study, compute the mean of ***video_view_count*** and see if there is a relevant difference for the analysis.\n",
        "\n",
        "Also, we will prepare the data set, this include transforming data types, dropping duplicates or missing values or creating new columns if necessary.  "
      ],
      "metadata": {
        "id": "aefEUw9iIyhU"
      }
    },
    {
      "cell_type": "code",
      "source": [
        "# See the first rows of our data set and familiarize with the data.\n",
        "views_data.head()"
      ],
      "metadata": {
        "id": "OACyVbahItM2"
      },
      "execution_count": null,
      "outputs": []
    },
    {
      "cell_type": "code",
      "source": [
        "# Table of descriptive measures of the data set\n",
        "views_data.describe()"
      ],
      "metadata": {
        "id": "PbLHMM0OItTR"
      },
      "execution_count": null,
      "outputs": []
    },
    {
      "cell_type": "code",
      "source": [
        "# Check for any missing data\n",
        "views_data[views_data[\"claim_status\"].isna()]"
      ],
      "metadata": {
        "id": "EMMlvtTcItV2"
      },
      "execution_count": null,
      "outputs": []
    },
    {
      "cell_type": "code",
      "source": [
        "# Drop rows with missing values\n",
        "views_data = views_data[~views_data[\"claim_status\"].isna()]\n",
        "views_data.head()"
      ],
      "metadata": {
        "id": "tGMgqv6YItYQ"
      },
      "execution_count": null,
      "outputs": []
    },
    {
      "cell_type": "code",
      "source": [
        "# Creation of new data frames that will help us in the hypothes testing process\n",
        "\n",
        "verified_acc = data[data[\"verified_status\"] == \"verified\"]\n",
        "not_verified_acc = data[data[\"verified_status\"] == \"not verified\"]\n",
        "\n",
        "# Mean validation\n",
        "data.groupby([\"verified_status\"]).mean()[\"video_view_count\"]\n",
        "\n",
        "# Note: We notice that the mean views from not verified accounts (265,663) is greater than the mean views from verified accounts (91,439)"
      ],
      "metadata": {
        "colab": {
          "base_uri": "https://localhost:8080/",
          "height": 211
        },
        "collapsed": true,
        "id": "-7OTlkgVG2Uc",
        "outputId": "6f615b49-c614-4d96-b49a-942b24d8c22c"
      },
      "execution_count": null,
      "outputs": [
        {
          "output_type": "error",
          "ename": "NameError",
          "evalue": "name 'data' is not defined",
          "traceback": [
            "\u001b[0;31m---------------------------------------------------------------------------\u001b[0m",
            "\u001b[0;31mNameError\u001b[0m                                 Traceback (most recent call last)",
            "\u001b[0;32m/tmp/ipython-input-1-1746381810.py\u001b[0m in \u001b[0;36m<cell line: 0>\u001b[0;34m()\u001b[0m\n\u001b[1;32m      1\u001b[0m \u001b[0;31m# Creation of new data frames that will help us in the hypothes testing process\u001b[0m\u001b[0;34m\u001b[0m\u001b[0;34m\u001b[0m\u001b[0m\n\u001b[1;32m      2\u001b[0m \u001b[0;34m\u001b[0m\u001b[0m\n\u001b[0;32m----> 3\u001b[0;31m \u001b[0mverified_acc\u001b[0m \u001b[0;34m=\u001b[0m \u001b[0mdata\u001b[0m\u001b[0;34m[\u001b[0m\u001b[0mdata\u001b[0m\u001b[0;34m[\u001b[0m\u001b[0;34m\"verified_status\"\u001b[0m\u001b[0;34m]\u001b[0m \u001b[0;34m==\u001b[0m \u001b[0;34m\"verified\"\u001b[0m\u001b[0;34m]\u001b[0m\u001b[0;34m\u001b[0m\u001b[0;34m\u001b[0m\u001b[0m\n\u001b[0m\u001b[1;32m      4\u001b[0m \u001b[0mnot_verified_acc\u001b[0m \u001b[0;34m=\u001b[0m \u001b[0mdata\u001b[0m\u001b[0;34m[\u001b[0m\u001b[0mdata\u001b[0m\u001b[0;34m[\u001b[0m\u001b[0;34m\"verified_status\"\u001b[0m\u001b[0;34m]\u001b[0m \u001b[0;34m==\u001b[0m \u001b[0;34m\"not verified\"\u001b[0m\u001b[0;34m]\u001b[0m\u001b[0;34m\u001b[0m\u001b[0;34m\u001b[0m\u001b[0m\n\u001b[1;32m      5\u001b[0m \u001b[0;34m\u001b[0m\u001b[0m\n",
            "\u001b[0;31mNameError\u001b[0m: name 'data' is not defined"
          ]
        }
      ]
    },
    {
      "cell_type": "markdown",
      "source": [
        "The code shows the following results:\n",
        "\n",
        "```\n",
        "not verified - 265663.785339\n",
        "verified - 91439.164167\n",
        "```\n",
        "\n",
        "We notice that the mean views from not verified accounts ( ***265,663*** ) is greater than the mean views from verified accounts ( ***91,439*** )\n",
        "\n"
      ],
      "metadata": {
        "id": "z2HXajz9I5yr"
      }
    },
    {
      "cell_type": "markdown",
      "source": [
        "## **3. Hypothesis Testing**\n",
        "\n",
        "Now that we are ready with our Data Frame, we can start to create our Hypothesis Testing.\n",
        "Someting that I find really interesting while executing this step is to recall relevant concepts such as:\n",
        "\n",
        "***Null Hypothesis*** = A statement that is assumed to be true unless there is convincing evidence to the contrary.\n",
        "\n",
        "***Alternative Hypothesis =*** A statement that contradicts the null hypothesis and is accepted as true only if there is convincing evidence for it\n",
        "\n",
        "---\n",
        "\n",
        "For this specific case study, the hypothesis would be:\n",
        "\n",
        "***Null Hypothesis***\n",
        "> There is not any statictical difference in the mean views between the verified and not verified accounts.\n",
        "\n",
        "***Alternative Hypothesis***\n",
        "\n",
        "> There is statistical difference in the mean views between the verified and not verified accounts.\n",
        "\n",
        "\n",
        "We establish a 5% as the significance level and proceed with a two-sample t-test."
      ],
      "metadata": {
        "id": "rn5x3UuwN_0O"
      }
    },
    {
      "cell_type": "code",
      "source": [
        "# Creation of the two-sample t-test\n",
        "\n",
        "stats.ttest_ind(a= not_verified_acc['video_view_count'] , b= verified_acc['video_view_count'], alternative='two-sided', equal_var=False)\n",
        "\n",
        "# NOTE: I chose  a two-sided t-test due to the null hypothesis."
      ],
      "metadata": {
        "id": "BDgO1q2jItae",
        "colab": {
          "base_uri": "https://localhost:8080/",
          "height": 211
        },
        "collapsed": true,
        "outputId": "f144543b-a378-44ec-9385-da6392cc9ed6"
      },
      "execution_count": null,
      "outputs": [
        {
          "output_type": "error",
          "ename": "NameError",
          "evalue": "name 'stats' is not defined",
          "traceback": [
            "\u001b[0;31m---------------------------------------------------------------------------\u001b[0m",
            "\u001b[0;31mNameError\u001b[0m                                 Traceback (most recent call last)",
            "\u001b[0;32m/tmp/ipython-input-2-2582402803.py\u001b[0m in \u001b[0;36m<cell line: 0>\u001b[0;34m()\u001b[0m\n\u001b[1;32m      1\u001b[0m \u001b[0;31m# Creation of the two-sample t-test\u001b[0m\u001b[0;34m\u001b[0m\u001b[0;34m\u001b[0m\u001b[0m\n\u001b[1;32m      2\u001b[0m \u001b[0;34m\u001b[0m\u001b[0m\n\u001b[0;32m----> 3\u001b[0;31m \u001b[0mstats\u001b[0m\u001b[0;34m.\u001b[0m\u001b[0mttest_ind\u001b[0m\u001b[0;34m(\u001b[0m\u001b[0ma\u001b[0m\u001b[0;34m=\u001b[0m \u001b[0mnot_verified_acc\u001b[0m\u001b[0;34m[\u001b[0m\u001b[0;34m'video_view_count'\u001b[0m\u001b[0;34m]\u001b[0m \u001b[0;34m,\u001b[0m \u001b[0mb\u001b[0m\u001b[0;34m=\u001b[0m \u001b[0mverified_acc\u001b[0m\u001b[0;34m[\u001b[0m\u001b[0;34m'video_view_count'\u001b[0m\u001b[0;34m]\u001b[0m\u001b[0;34m,\u001b[0m \u001b[0malternative\u001b[0m\u001b[0;34m=\u001b[0m\u001b[0;34m'two-sided'\u001b[0m\u001b[0;34m,\u001b[0m \u001b[0mequal_var\u001b[0m\u001b[0;34m=\u001b[0m\u001b[0;32mFalse\u001b[0m\u001b[0;34m)\u001b[0m\u001b[0;34m\u001b[0m\u001b[0;34m\u001b[0m\u001b[0m\n\u001b[0m\u001b[1;32m      4\u001b[0m \u001b[0;34m\u001b[0m\u001b[0m\n\u001b[1;32m      5\u001b[0m \u001b[0;31m# NOTE: I chose  a two-sided t-test due to the null hypothesis.\u001b[0m\u001b[0;34m\u001b[0m\u001b[0;34m\u001b[0m\u001b[0m\n",
            "\u001b[0;31mNameError\u001b[0m: name 'stats' is not defined"
          ]
        }
      ]
    },
    {
      "cell_type": "markdown",
      "source": [
        "## **4. Results and Conclusion**\n",
        "\n",
        "The code shows the following results:\n",
        "\n",
        "\n",
        "```\n",
        "Ttest_indResult(statistic=25.499441780633777, pvalue=2.6088823687177823e-120)\n",
        "```\n",
        "\n",
        "Recalling what a p-value is:\n",
        "> The probability of observing results as or more extreme than those observed when the null hypothesis is true\n",
        "\n",
        "Based on the result that we got from the two-tailed t-test, we see that the value is extremely low, so we can conclude that there is statistical relevance between the means of the verified accounts and the not verified accounts.\n",
        "\n",
        "\n",
        "***We can confidently reject the null hypothesis an say that: there is a difference between mean views from not verified accounts and verfied accounts ***\n",
        "\n",
        "---\n",
        "\n",
        "As part of the analysis, we need to comunicate insights with stakeholders so the differents areas involved on the project can take more informed decisions and invest resources on what really matters:\n",
        "\n",
        "\n",
        "There is a statistical difference between the mean views from **not verified accounts** and the **verified** accounts. This can bring value to the project itself because we now have data and a methodology that supports this insight.\n",
        "Here are some questions I would do in order to understand more about the data:\n",
        "\n",
        "*   Do the **not verified accounts** upload videos related to an specific topic?\n",
        "*   Are **not verified accounts** using some kind of bot to increase the views whenever they upload a video?\n",
        "\n",
        "\n",
        "\n",
        "\n",
        "\n"
      ],
      "metadata": {
        "id": "FzjuikgPIoTh"
      }
    },
    {
      "cell_type": "code",
      "source": [],
      "metadata": {
        "id": "6-GCofELX_pA"
      },
      "execution_count": null,
      "outputs": []
    }
  ]
}