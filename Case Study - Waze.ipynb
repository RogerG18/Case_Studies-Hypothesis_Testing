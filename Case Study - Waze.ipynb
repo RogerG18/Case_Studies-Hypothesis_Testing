{
  "nbformat": 4,
  "nbformat_minor": 0,
  "metadata": {
    "colab": {
      "provenance": []
    },
    "kernelspec": {
      "name": "python3",
      "display_name": "Python 3"
    },
    "language_info": {
      "name": "python"
    }
  },
  "cells": [
    {
      "cell_type": "markdown",
      "source": [
        "# **Case Study** - *Waze Divice Type*"
      ],
      "metadata": {
        "id": "LBfBvgdfPGgC"
      }
    },
    {
      "cell_type": "markdown",
      "source": [
        "## **1. Setting Enviroment**\n",
        "\n",
        "As a first step on this case study, we focus on preparing the enviroment for our anlaysis and uploading our data.\n"
      ],
      "metadata": {
        "id": "eY1FjKzvPISg"
      }
    },
    {
      "cell_type": "code",
      "execution_count": null,
      "metadata": {
        "id": "NvmMbAYxKHK-"
      },
      "outputs": [],
      "source": [
        "# First, let´s import the libraries that are escential for the analysis.\n",
        "\n",
        "import pandas as od\n",
        "from scipy import stats"
      ]
    },
    {
      "cell_type": "code",
      "source": [
        "# Load dataset into dataframe\n",
        "waze_df = pd.read_csv('waze_dataset.csv')\n",
        "\n",
        "#NOTE: The path to the CSV is not specified on the code, but can be replicated as long as the file is locally stored."
      ],
      "metadata": {
        "id": "MIhGiZYAPFZX"
      },
      "execution_count": null,
      "outputs": []
    },
    {
      "cell_type": "markdown",
      "source": [
        "## **2. Descriptive Analysis & Data Preparation**\n",
        "\n",
        "Now that we have everyting set up, it is important that we give our Data Frame a quick descriptive analysis. This will allow us to undertand better our data set, see if there is any missing values, see data structures, understand data distribution and for this specific case study, compute the mean of ***drives*** per device type. (iPhone - Android)\n",
        "\n",
        "Also, we can prepare the data set, this could include transforming data types, dropping duplicates or missing values or creating new columns if necessary.  "
      ],
      "metadata": {
        "id": "cEdUuSkUPnBo"
      }
    },
    {
      "cell_type": "code",
      "source": [
        "# See the first rows of our data set and familiarize with the data.\n",
        "waze_df.head()"
      ],
      "metadata": {
        "id": "4J6BKskZPnds"
      },
      "execution_count": null,
      "outputs": []
    },
    {
      "cell_type": "code",
      "source": [
        "# Table of descriptive measures of the data set\n",
        "waze_df.describe()"
      ],
      "metadata": {
        "id": "ypHwL0AWQG1E"
      },
      "execution_count": null,
      "outputs": []
    },
    {
      "cell_type": "code",
      "source": [
        "# Creation of new data frames that will help us in the hypothes testing process\n",
        "\n",
        "df_iphone = waze_df[waze_df[\"device\"]==\"iPhone\"]\n",
        "df_android = waze_df[waze_df[\"device\"]==\"Android\"]"
      ],
      "metadata": {
        "id": "AcFwY_7PRj6L"
      },
      "execution_count": null,
      "outputs": []
    },
    {
      "cell_type": "code",
      "source": [
        "# Mean validation\n",
        "waze_df.groupby([\"verified_status\"]).mean()[\"video_view_count\"]"
      ],
      "metadata": {
        "id": "7FIqcVLIRj8x"
      },
      "execution_count": null,
      "outputs": []
    },
    {
      "cell_type": "markdown",
      "source": [
        "The code shows the following results:\n",
        "\n",
        "```\n",
        "device\n",
        "Android    66.231838\n",
        "iPhone     67.859078\n",
        "```\n",
        "\n"
      ],
      "metadata": {
        "id": "y6VRgllXRw3C"
      }
    },
    {
      "cell_type": "markdown",
      "source": [
        "# **3. Hypothesis Testing**\n",
        "\n",
        "Now that we are ready with our Data Frame, we can start to create our Hypothesis Testing.\n",
        "Someting that I find really interesting while executing this step is to recall relevant concepts such as:\n",
        "\n",
        "***Null Hypothesis*** = A statement that is assumed to be true unless there is convincing evidence to the contrary.\n",
        "\n",
        "***Alternative Hypothesis =*** A statement that contradicts the null hypothesis and is accepted as true only if there is convincing evidence for it\n",
        "\n",
        "---\n",
        "\n",
        "For this specific case study, the hypothesis would be:\n",
        "\n",
        "Null Hypothesis = There is not any statistical difference between the **mean drives** from *Iphone* users and *Android* users, the difference is due to random sampling.\n",
        "\n",
        "Alternative Hypothesis = There is statistical difference between the **mean drives** from *Iphone* Users and *Android* users unless theres evidence that tells the oposite.\n",
        "\n",
        "We establish a **5% as the significance level** and proceed with a two-sample t-test."
      ],
      "metadata": {
        "id": "X7Pdbh8eSI4T"
      }
    },
    {
      "cell_type": "code",
      "source": [
        "stats.ttest_ind(a= df_iphone['drives'] , b= df_android['drives'], alternative='two-sided', equal_var=False)"
      ],
      "metadata": {
        "id": "YMDGlrN7Rj_M"
      },
      "execution_count": null,
      "outputs": []
    },
    {
      "cell_type": "markdown",
      "source": [
        "## **4. Results and Conclusion**\n",
        "\n",
        "The code shows the following results:\n",
        "\n",
        "```\n",
        "Ttest_indResult(statistic=1.4635232068852353, pvalue=0.1433519726802059)\n",
        "```\n",
        "Recalling what a p-value is:\n",
        "> The probability of observing results as or more extreme than those observed when the null hypothesis is true\n",
        "\n",
        "Based on the result that we got from the two-tailed t-test, we can see that the p-value is 0.1433, which means a 14.33% of probability of seeing this specific behaviour on the data.\n",
        "Our p-value is higher than our significance level of 5% (0.1433 > 0.05), so we fail to reject the null hypothesis.\n",
        "\n"
      ],
      "metadata": {
        "id": "Kh-_JURxStzV"
      }
    },
    {
      "cell_type": "code",
      "source": [
        "\n"
      ],
      "metadata": {
        "id": "N-CJ1NWqRkBh"
      },
      "execution_count": null,
      "outputs": []
    },
    {
      "cell_type": "code",
      "source": [],
      "metadata": {
        "id": "DiQyb_8SRkD9"
      },
      "execution_count": null,
      "outputs": []
    }
  ]
}