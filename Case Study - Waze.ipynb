{
  "nbformat": 4,
  "nbformat_minor": 0,
  "metadata": {
    "colab": {
      "provenance": []
    },
    "kernelspec": {
      "name": "python3",
      "display_name": "Python 3"
    },
    "language_info": {
      "name": "python"
    }
  },
  "cells": [
    {
      "cell_type": "markdown",
      "source": [
        "# **Case Study** - *Waze Divice Type*\n",
        "\n",
        "The Waze team is working on a specific project to prevent monthly churn of users.\n",
        "\n",
        "As part of the milestones for the analysis, creating an **Hypothesis Test** to understand more about the user's behavior on the app is relevant. By doing so, the Analytical Team can make inferences of the population and develop new strategies to impact on the churn ratio of the App."
      ],
      "metadata": {
        "id": "LBfBvgdfPGgC"
      }
    },
    {
      "cell_type": "markdown",
      "source": [
        "## **1. Setting Enviroment**\n",
        "\n",
        "As a first step on this case study, we focus on preparing the enviroment for our anlaysis and uploading our data.\n"
      ],
      "metadata": {
        "id": "eY1FjKzvPISg"
      }
    },
    {
      "cell_type": "code",
      "execution_count": null,
      "metadata": {
        "id": "NvmMbAYxKHK-"
      },
      "outputs": [],
      "source": [
        "# First, let´s import the libraries that are escential for the analysis.\n",
        "\n",
        "import pandas as od\n",
        "from scipy import stats"
      ]
    },
    {
      "cell_type": "code",
      "source": [
        "# Load dataset into dataframe\n",
        "waze_df = pd.read_csv('waze_dataset.csv')\n",
        "\n",
        "#NOTE: The path to the CSV is not specified on the code, but can be replicated as long as the file is locally stored."
      ],
      "metadata": {
        "id": "MIhGiZYAPFZX"
      },
      "execution_count": null,
      "outputs": []
    },
    {
      "cell_type": "markdown",
      "source": [
        "## **2. Descriptive Analysis & Data Preparation**\n",
        "\n",
        "Now that we have everything set up, it is important that we give our dataset a quick descriptive analysis. This will allow us to better understand our data set, check for any missing values, examine the data structures, understand data distribution and for this specific case study, compute the mean of ***drives*** per device type. (iPhone - Android)\n",
        "\n",
        "Also, we will prepare the dataset, this includes transforming data types, dropping duplicates or missing values, or creating new columns if necessary.  "
      ],
      "metadata": {
        "id": "cEdUuSkUPnBo"
      }
    },
    {
      "cell_type": "code",
      "source": [
        "# See the first rows of our data set and familiarize with the data.\n",
        "waze_df.head()"
      ],
      "metadata": {
        "id": "4J6BKskZPnds"
      },
      "execution_count": null,
      "outputs": []
    },
    {
      "cell_type": "code",
      "source": [
        "# Table of descriptive measures of the data set\n",
        "waze_df.describe()"
      ],
      "metadata": {
        "id": "ypHwL0AWQG1E"
      },
      "execution_count": null,
      "outputs": []
    },
    {
      "cell_type": "code",
      "source": [
        "# Creation of new data frames that will help us in the hypothes testing process\n",
        "\n",
        "df_iphone = waze_df[waze_df[\"device\"]==\"iPhone\"]\n",
        "df_android = waze_df[waze_df[\"device\"]==\"Android\"]"
      ],
      "metadata": {
        "id": "AcFwY_7PRj6L"
      },
      "execution_count": null,
      "outputs": []
    },
    {
      "cell_type": "code",
      "source": [
        "# Mean validation\n",
        "waze_df.groupby([\"verified_status\"]).mean()[\"video_view_count\"]"
      ],
      "metadata": {
        "id": "7FIqcVLIRj8x"
      },
      "execution_count": null,
      "outputs": []
    },
    {
      "cell_type": "markdown",
      "source": [
        "The code shows the following results:\n",
        "\n",
        "```\n",
        "device\n",
        "Android    66.231838\n",
        "iPhone     67.859078\n",
        "```\n",
        "\n"
      ],
      "metadata": {
        "id": "y6VRgllXRw3C"
      }
    },
    {
      "cell_type": "markdown",
      "source": [
        "# **3. Hypothesis Testing**\n",
        "\n",
        "Now that we are ready with our dataset, we can proceed with our Hypothesis Testing.\n",
        "Someting that I find really interesting while executing this step is to recall relevant concepts such as:\n",
        "\n",
        "***Null Hypothesis***: A statement that is assumed to be true unless there is convincing evidence to the contrary.\n",
        "\n",
        "***Alternative Hypothesis:*** A statement that contradicts the null hypothesis and is accepted as true only if there is convincing evidence for it\n",
        "\n",
        "---\n",
        "\n",
        "For this specific case study, the hypothesis would be:\n",
        "\n",
        "Null Hypothesis = There is no statistically significant difference between the **mean drives** from *Iphone* users and *Android* users, the difference is due to random sampling.\n",
        "\n",
        "Alternative Hypothesis = There is statistically significant difference between the **mean drives** from *Iphone* users and *Android* users. This can be accepted only if there is convincing evidence.  \n",
        "\n",
        "We set the **significance level at 5%** and proceed with a two-sample t-test."
      ],
      "metadata": {
        "id": "X7Pdbh8eSI4T"
      }
    },
    {
      "cell_type": "code",
      "source": [
        "stats.ttest_ind(a= df_iphone['drives'] , b= df_android['drives'], alternative='two-sided', equal_var=False)"
      ],
      "metadata": {
        "id": "YMDGlrN7Rj_M"
      },
      "execution_count": null,
      "outputs": []
    },
    {
      "cell_type": "markdown",
      "source": [
        "## **4. Results and Conclusion**\n",
        "\n",
        "The code shows the following results:\n",
        "\n",
        "```\n",
        "Ttest_indResult(statistic=1.4635232068852353, pvalue=0.1433519726802059)\n",
        "```\n",
        "Recalling what a p-value is:\n",
        "> The probability of observing results as or more extreme than those observed when the null hypothesis is true\n",
        "\n",
        "Based on the result that we got from the two-tailed t-test, we observe that the p-value is 0.1433, which means a 14.33% probability of seeing this specific behaviour on the sampled data.\n",
        "The p-value is higher than the significance level of 5% (0.1433 > 0.05), so we fail to reject the null hypothesis.\n",
        "By doing so, it means that there is no statistically significant difference between the means from the 2 types of devices and that this difference can be due to random sampling.\n"
      ],
      "metadata": {
        "id": "Kh-_JURxStzV"
      }
    },
    {
      "cell_type": "markdown",
      "source": [
        "## **5. Next Steps**\n",
        "\n",
        "As part of the analysis, here are some insights I would recommend to analyze further and contribute to the project's  objectives:\n",
        "\n",
        "*   Due to the results of the hypothesis test, we can explore other variables on the data set that could explain more about the user's behavior.\n",
        "*   As the drives mean is basically the same for both type of users, a change on the interface or a new marketing strategy could benefit and prevent the churn ratio.\n",
        "\n"
      ],
      "metadata": {
        "id": "hItiaZ71uj8B"
      }
    },
    {
      "cell_type": "code",
      "source": [
        "\n"
      ],
      "metadata": {
        "id": "N-CJ1NWqRkBh"
      },
      "execution_count": null,
      "outputs": []
    },
    {
      "cell_type": "code",
      "source": [],
      "metadata": {
        "id": "DiQyb_8SRkD9"
      },
      "execution_count": null,
      "outputs": []
    }
  ]
}